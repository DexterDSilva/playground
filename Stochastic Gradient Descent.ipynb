{
 "cells": [
  {
   "cell_type": "code",
   "execution_count": 1,
   "metadata": {},
   "outputs": [
    {
     "name": "stdout",
     "output_type": "stream",
     "text": [
      "/Users/dexterdsilva/Documents/Developer/MachineLearning/fastai/course-v3/nbs/dl1/stochastic_gradient_descent.mp4\n"
     ]
    }
   ],
   "source": [
    "from fastai.basics import *\n",
    "from fastai import *\n",
    "%load_ext autoreload\n",
    "%autoreload 2\n",
    "%matplotlib inline\n",
    "\n",
    "\n",
    "root_dir=os.path.abspath('');root_dir\n",
    "\n",
    "n=100\n",
    "x=torch.ones(n,2)\n",
    "x[:,0].uniform_(-1.,1);x[:5]\n",
    "a0 = tensor(3.,2)\n",
    "y=x@a0 +torch.rand(n)\n",
    "\n",
    "def mse(y_hat,y):\n",
    "    return ((y_hat-y)**2).mean()\n",
    "\n",
    "def update():\n",
    "    y_hat=x@a\n",
    "    loss = mse(y_hat,y)\n",
    "    loss.backward()\n",
    "    with torch.no_grad():\n",
    "        a.sub_(lr * a.grad)\n",
    "        a.grad.zero_()\n",
    "        \n",
    "def animate(i):\n",
    "    update()\n",
    "    with torch.no_grad():\n",
    "        line.set_ydata(x@a)\n",
    "        return line,\n",
    "\n",
    "from matplotlib import animation, rc\n",
    "rc('animation', html='jshtml')\n",
    "\n",
    "a=nn.Parameter(tensor(-1.,1))\n",
    "lr = 0.1\n",
    "fig = plt.figure(figsize=(6,6))\n",
    "fig.suptitle('The Essence of Machine Learning')\n",
    "plt.title('Stochastic Gradient Descent')\n",
    "plt.style.use('seaborn-whitegrid')\n",
    "plt.plot(x[:,0],y, 'ko')\n",
    "with torch.no_grad():\n",
    "    line, =plt.plot(x[:,0], x@a, 'ro--')\n",
    "plt.close()\n",
    "\n",
    "ani = animation.FuncAnimation(fig, animate, np.arange(100),interval=10)\n",
    "\n",
    "#save animation\n",
    "Writer = animation.writers['ffmpeg']\n",
    "writer = Writer(fps=15, metadata=dict(artist='Me'), bitrate=1800)\n",
    " \n",
    "opname = root_dir +'/stochastic_gradient_descent.mp4'    \n",
    "print(opname)\n",
    "\n",
    "ani.save(opname, writer=writer)\n"
   ]
  },
  {
   "cell_type": "code",
   "execution_count": null,
   "metadata": {},
   "outputs": [],
   "source": []
  }
 ],
 "metadata": {
  "kernelspec": {
   "display_name": "Python 3.7.6 64-bit ('py3cv4tor': virtualenv)",
   "language": "python",
   "name": "python37664bitpy3cv4torvirtualenv451b958d012e48ea986336bb36b6bc6f"
  },
  "language_info": {
   "codemirror_mode": {
    "name": "ipython",
    "version": 3
   },
   "file_extension": ".py",
   "mimetype": "text/x-python",
   "name": "python",
   "nbconvert_exporter": "python",
   "pygments_lexer": "ipython3",
   "version": "3.7.6"
  }
 },
 "nbformat": 4,
 "nbformat_minor": 4
}
